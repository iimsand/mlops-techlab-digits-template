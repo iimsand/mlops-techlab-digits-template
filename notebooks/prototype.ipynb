{
 "cells": [
  {
   "cell_type": "markdown",
   "metadata": {},
   "source": [
    "# Prototyp: Handgeschriebene Zahlen erkennen"
   ]
  },
  {
   "cell_type": "markdown",
   "metadata": {},
   "source": [
    "**Skripte für einzelne Schritte erstellen**"
   ]
  },
  {
   "cell_type": "markdown",
   "metadata": {},
   "source": [
    "## Python-Erweiterungen laden"
   ]
  },
  {
   "cell_type": "code",
   "execution_count": 1,
   "metadata": {},
   "outputs": [],
   "source": [
    "%load_ext autoreload\n",
    "%autoreload 2"
   ]
  },
  {
   "cell_type": "code",
   "execution_count": 2,
   "metadata": {},
   "outputs": [],
   "source": [
    "import matplotlib.pyplot as plt"
   ]
  },
  {
   "cell_type": "code",
   "execution_count": 3,
   "metadata": {},
   "outputs": [
    {
     "name": "stdout",
     "output_type": "stream",
     "text": [
      "/workspaces/mlops-techlab-digits-template\n"
     ]
    }
   ],
   "source": [
    "from pathlib import Path\n",
    "\n",
    "# change directory one level up if current working directory is 'notebooks'\n",
    "if (Path.cwd().name == 'notebooks'):\n",
    "    %cd .."
   ]
  },
  {
   "cell_type": "code",
   "execution_count": 4,
   "metadata": {},
   "outputs": [
    {
     "name": "stdout",
     "output_type": "stream",
     "text": [
      "PYTHONENV=/workspaces/mlops-techlab-digits-template\n"
     ]
    }
   ],
   "source": [
    "# workaround for codespaces for \"Module not Found\"\n",
    "import os\n",
    "if os.environ[\"CODESPACES\"]:\n",
    "    os.environ[\"PYTHONPATH\"] = str(Path.cwd())\n",
    "    print(f\"PYTHONENV={os.environ['PYTHONPATH']}\")"
   ]
  },
  {
   "cell_type": "markdown",
   "metadata": {},
   "source": [
    "## Daten laden"
   ]
  },
  {
   "cell_type": "code",
   "execution_count": 5,
   "metadata": {},
   "outputs": [
    {
     "name": "stdout",
     "output_type": "stream",
     "text": [
      "2023-09-11 17:06:26,142 — data_load — INFO — Get dataset\n",
      "2023-09-11 17:06:26,158 — data_load — INFO — Save raw data\n"
     ]
    }
   ],
   "source": [
    "from src.data_load import data_load\n",
    "digits = data_load('params.yaml')"
   ]
  },
  {
   "cell_type": "code",
   "execution_count": 6,
   "metadata": {},
   "outputs": [
    {
     "name": "stdout",
     "output_type": "stream",
     "text": [
      "2023-09-11 17:06:27,199 — data_load — INFO — Get dataset\n",
      "2023-09-11 17:06:27,209 — data_load — INFO — Save raw data\n"
     ]
    }
   ],
   "source": [
    "!python3 src/data_load.py --config params.yaml"
   ]
  },
  {
   "cell_type": "markdown",
   "metadata": {},
   "source": [
    "## Daten visualisieren"
   ]
  },
  {
   "cell_type": "code",
   "execution_count": 7,
   "metadata": {},
   "outputs": [
    {
     "data": {
      "image/png": "[encoded data removed]",
      "text/plain": [
       "<Figure size 1000x300 with 4 Axes>"
      ]
     },
     "metadata": {},
     "output_type": "display_data"
    }
   ],
   "source": [
    "# explore\n",
    "_, axes = plt.subplots(nrows=1, ncols=4, figsize=(10, 3))\n",
    "for ax, image, label in zip(axes, digits.images, digits.target):\n",
    "    ax.set_axis_off()\n",
    "    ax.imshow(image, cmap=plt.cm.gray_r, interpolation=\"nearest\")\n",
    "    ax.set_title(\"label: %i\" % label)"
   ]
  },
  {
   "cell_type": "markdown",
   "metadata": {},
   "source": [
    "## Daten transformieren"
   ]
  },
  {
   "cell_type": "code",
   "execution_count": 8,
   "metadata": {},
   "outputs": [
    {
     "name": "stdout",
     "output_type": "stream",
     "text": [
      "2023-09-11 17:06:28,228 — data_prepare — INFO — Load raw data\n",
      "2023-09-11 17:06:28,231 — data_prepare — INFO — Prepare data\n",
      "2023-09-11 17:06:28,233 — data_prepare — INFO — Save prepared data\n"
     ]
    }
   ],
   "source": [
    "from src.data_prepare import data_prepare\n",
    "data = data_prepare('params.yaml')"
   ]
  },
  {
   "cell_type": "code",
   "execution_count": 9,
   "metadata": {},
   "outputs": [
    {
     "name": "stdout",
     "output_type": "stream",
     "text": [
      "2023-09-11 17:06:29,036 — data_prepare — INFO — Load raw data\n",
      "2023-09-11 17:06:29,467 — data_prepare — INFO — Prepare data\n",
      "2023-09-11 17:06:29,468 — data_prepare — INFO — Save prepared data\n"
     ]
    }
   ],
   "source": [
    "!python3 src/data_prepare.py --config=params.yaml"
   ]
  },
  {
   "cell_type": "markdown",
   "metadata": {},
   "source": [
    "## Datensatz in Trainings- und Testdaten aufteilen"
   ]
  },
  {
   "cell_type": "code",
   "execution_count": 10,
   "metadata": {},
   "outputs": [
    {
     "name": "stdout",
     "output_type": "stream",
     "text": [
      "2023-09-11 17:06:29,868 — data_split — INFO — Load features\n",
      "2023-09-11 17:06:29,886 — data_split — INFO — Split data\n",
      "2023-09-11 17:06:29,889 — data_split — INFO — Save split data\n"
     ]
    }
   ],
   "source": [
    "from src.data_split import data_split\n",
    "train_dataset, test_dataset = data_split('params.yaml')"
   ]
  },
  {
   "cell_type": "code",
   "execution_count": 11,
   "metadata": {},
   "outputs": [
    {
     "name": "stdout",
     "output_type": "stream",
     "text": [
      "2023-09-11 17:06:31,296 — data_split — INFO — Load features\n",
      "2023-09-11 17:06:31,313 — data_split — INFO — Split data\n",
      "2023-09-11 17:06:31,315 — data_split — INFO — Save split data\n"
     ]
    }
   ],
   "source": [
    "!python3 src/data_split.py --config=params.yaml"
   ]
  },
  {
   "cell_type": "markdown",
   "metadata": {},
   "source": [
    "## Modell trainieren"
   ]
  },
  {
   "cell_type": "code",
   "execution_count": 12,
   "metadata": {},
   "outputs": [
    {
     "name": "stdout",
     "output_type": "stream",
     "text": [
      "2023-09-11 17:06:31,647 — train_model — INFO — Load train dataset\n",
      "2023-09-11 17:06:31,662 — train_model — INFO — Train model\n",
      "2023-09-11 17:06:31,680 — train_model — INFO — Save model\n",
      "CPU times: user 61.9 ms, sys: 12.4 ms, total: 74.3 ms\n",
      "Wall time: 87.9 ms\n"
     ]
    }
   ],
   "source": [
    "%%time\n",
    "\n",
    "from src.train import train_model\n",
    "model = train_model('params.yaml')"
   ]
  },
  {
   "cell_type": "code",
   "execution_count": 13,
   "metadata": {},
   "outputs": [
    {
     "name": "stdout",
     "output_type": "stream",
     "text": [
      "2023-09-11 17:06:33,203 — train_model — INFO — Load train dataset\n",
      "2023-09-11 17:06:33,217 — train_model — INFO — Train model\n",
      "2023-09-11 17:06:33,237 — train_model — INFO — Save model\n"
     ]
    }
   ],
   "source": [
    "!python3 src/train.py --config=params.yaml"
   ]
  },
  {
   "cell_type": "markdown",
   "metadata": {},
   "source": [
    "## Modell testen"
   ]
  },
  {
   "cell_type": "code",
   "execution_count": 14,
   "metadata": {},
   "outputs": [
    {
     "name": "stdout",
     "output_type": "stream",
     "text": [
      "2023-09-11 17:06:33,519 — evaluate_model — INFO — Load test dataset\n",
      "2023-09-11 17:06:33,527 — evaluate_model — INFO — Load model\n",
      "2023-09-11 17:06:33,529 — evaluate_model — INFO — Test model\n",
      "2023-09-11 17:06:33,542 — evaluate_model — INFO — Calculate f1 score\n",
      "2023-09-11 17:06:33,545 — evaluate_model — INFO — Save metrics\n",
      "2023-09-11 17:06:33,546 — evaluate_model — INFO — Plot confusion matrix\n",
      "2023-09-11 17:06:33,625 — evaluate_model — INFO — Save confusion matrix\n"
     ]
    },
    {
     "data": {
      "image/png": "[encoded data removed]",
      "text/plain": [
       "<Figure size 640x480 with 2 Axes>"
      ]
     },
     "metadata": {},
     "output_type": "display_data"
    }
   ],
   "source": [
    "from src.evaluate import evaluate_model\n",
    "evaluation_results = evaluate_model('params.yaml')"
   ]
  },
  {
   "cell_type": "code",
   "execution_count": 15,
   "metadata": {},
   "outputs": [
    {
     "name": "stdout",
     "output_type": "stream",
     "text": [
      "2023-09-11 17:06:36,928 — evaluate_model — INFO — Load test dataset\n",
      "2023-09-11 17:06:36,941 — evaluate_model — INFO — Load model\n",
      "2023-09-11 17:06:37,015 — evaluate_model — INFO — Test model\n",
      "2023-09-11 17:06:37,024 — evaluate_model — INFO — Calculate f1 score\n",
      "2023-09-11 17:06:37,027 — evaluate_model — INFO — Save metrics\n",
      "2023-09-11 17:06:37,027 — evaluate_model — INFO — Plot confusion matrix\n",
      "2023-09-11 17:06:38,976 — evaluate_model — INFO — Save confusion matrix\n"
     ]
    }
   ],
   "source": [
    "!python3 src/evaluate.py --config=params.yaml"
   ]
  }
 ],
 "metadata": {
  "kernelspec": {
   "display_name": ".env",
   "language": "python",
   "name": "python3"
  },
  "language_info": {
   "codemirror_mode": {
    "name": "ipython",
    "version": 3
   },
   "file_extension": ".py",
   "mimetype": "text/x-python",
   "name": "python",
   "nbconvert_exporter": "python",
   "pygments_lexer": "ipython3",
   "version": "3.10.8"
  },
  "orig_nbformat": 4
 },
 "nbformat": 4,
 "nbformat_minor": 2
}
